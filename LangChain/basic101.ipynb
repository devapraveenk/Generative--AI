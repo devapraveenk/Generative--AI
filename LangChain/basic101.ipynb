{
 "cells": [
  {
   "cell_type": "code",
   "execution_count": null,
   "metadata": {},
   "outputs": [],
   "source": [
    "%pip install langchain\n",
    "%pip install dotenv"
   ]
  },
  {
   "cell_type": "code",
   "execution_count": 2,
   "metadata": {},
   "outputs": [
    {
     "data": {
      "text/plain": [
       "True"
      ]
     },
     "execution_count": 2,
     "metadata": {},
     "output_type": "execute_result"
    }
   ],
   "source": [
    "from dotenv import load_dotenv\n",
    "load_dotenv()"
   ]
  },
  {
   "cell_type": "code",
   "execution_count": 5,
   "metadata": {},
   "outputs": [
    {
     "name": "stdout",
     "output_type": "stream",
     "text": [
      "Note: you may need to restart the kernel to use updated packages.\n"
     ]
    }
   ],
   "source": [
    "%pip install -qU langchain-openai"
   ]
  },
  {
   "cell_type": "markdown",
   "metadata": {},
   "source": [
    "# Language Model"
   ]
  },
  {
   "cell_type": "code",
   "execution_count": 23,
   "metadata": {},
   "outputs": [
    {
     "data": {
      "text/plain": [
       "ChatOpenAI(client=<openai.resources.chat.completions.Completions object at 0x11bccc4d0>, async_client=<openai.resources.chat.completions.AsyncCompletions object at 0x11bcd04d0>, root_client=<openai.OpenAI object at 0x11bc09d50>, root_async_client=<openai.AsyncOpenAI object at 0x11bccc690>, model_name='gpt-4o-mini', model_kwargs={}, openai_api_key=SecretStr('**********'))"
      ]
     },
     "execution_count": 23,
     "metadata": {},
     "output_type": "execute_result"
    }
   ],
   "source": [
    "from langchain_openai import ChatOpenAI\n",
    "\n",
    "llm = ChatOpenAI(model= 'gpt-4o-mini',temperature=0.0)\n",
    "llm"
   ]
  },
  {
   "cell_type": "code",
   "execution_count": 13,
   "metadata": {},
   "outputs": [],
   "source": [
    "from langchain_openai import ChatOpenAI\n",
    "\n",
    "llm = ChatOpenAI(model= 'gpt-4o-mini', temperature=0.0)\n",
    "result = llm.invoke('who are you ?')\n"
   ]
  },
  {
   "cell_type": "code",
   "execution_count": 25,
   "metadata": {},
   "outputs": [
    {
     "data": {
      "text/plain": [
       "AIMessage(content='I am an AI language model created by OpenAI, designed to assist with a variety of questions and tasks by providing information, answering inquiries, and engaging in conversation. How can I assist you today?', additional_kwargs={'refusal': None}, response_metadata={'token_usage': {'completion_tokens': 40, 'prompt_tokens': 11, 'total_tokens': 51, 'completion_tokens_details': {'audio_tokens': None, 'reasoning_tokens': 0}, 'prompt_tokens_details': {'audio_tokens': None, 'cached_tokens': 0}}, 'model_name': 'gpt-4o-mini-2024-07-18', 'system_fingerprint': 'fp_f59a81427f', 'finish_reason': 'stop', 'logprobs': None}, id='run-b345dcd4-f40e-42ab-bc3a-642a766c6c6f-0', usage_metadata={'input_tokens': 11, 'output_tokens': 40, 'total_tokens': 51, 'input_token_details': {'cache_read': 0}, 'output_token_details': {'reasoning': 0}})"
      ]
     },
     "execution_count": 25,
     "metadata": {},
     "output_type": "execute_result"
    }
   ],
   "source": [
    "result"
   ]
  },
  {
   "cell_type": "code",
   "execution_count": 27,
   "metadata": {},
   "outputs": [
    {
     "data": {
      "text/plain": [
       "{'input_tokens': 11,\n",
       " 'output_tokens': 40,\n",
       " 'total_tokens': 51,\n",
       " 'input_token_details': {'cache_read': 0},\n",
       " 'output_token_details': {'reasoning': 0}}"
      ]
     },
     "execution_count": 27,
     "metadata": {},
     "output_type": "execute_result"
    }
   ],
   "source": [
    "result.usage_metadata"
   ]
  },
  {
   "cell_type": "code",
   "execution_count": 24,
   "metadata": {},
   "outputs": [
    {
     "name": "stdout",
     "output_type": "stream",
     "text": [
      "I am an AI language model created by OpenAI, designed to assist with a variety of questions and tasks by providing information, answering inquiries, and engaging in conversation. How can I assist you today?\n"
     ]
    }
   ],
   "source": [
    "type(result)\n",
    "\n",
    "print(result.content)"
   ]
  },
  {
   "cell_type": "code",
   "execution_count": 21,
   "metadata": {},
   "outputs": [
    {
     "data": {
      "text/plain": [
       "AIMessage(content='Sure! Here are some romantic anime that you might enjoy:\\n\\n1. **Your Lie in April (Shigatsu wa Kimi no Uso)** - A beautiful story about a piano prodigy who meets a free-spirited violinist and how she changes his life.\\n\\n2. **Toradora!** - A romantic comedy that follows the complicated relationships between a boy and a girl who decide to help each other with their respective crushes.\\n\\n3. **Kimi ni Todoke** - A sweet tale about a girl who is misunderstood because of her appearance but finds friendship and love with a popular boy.\\n\\n4. **Clannad: After Story** - A heartwarming and emotional journey of love, family, and the struggles of adulthood.\\n\\n5. **Fruits Basket** - A story about a girl who gets involved with a family cursed to transform into animals of the Zodiac, exploring themes of love and acceptance.\\n\\n6. **My Little Monster (Tonari no Kaibutsu-kun)** - A unique take on romance, focusing on the relationship between a studious girl and a troublemaker boy.\\n\\n7. **Nana** - A deeper, more mature romance that follows the lives of two women named Nana who become friends and navigate love and relationships in Tokyo.\\n\\n8. **A Silent Voice (Koe no Katachi)** - A touching film about redemption and understanding, revolving around the relationship between a boy and a deaf girl.\\n\\nLet me know if you want more recommendations or details about any specific title!', additional_kwargs={'refusal': None}, response_metadata={'token_usage': {'completion_tokens': 304, 'prompt_tokens': 34, 'total_tokens': 338, 'completion_tokens_details': {'audio_tokens': None, 'reasoning_tokens': 0}, 'prompt_tokens_details': {'audio_tokens': None, 'cached_tokens': 0}}, 'model_name': 'gpt-4o-mini-2024-07-18', 'system_fingerprint': 'fp_f59a81427f', 'finish_reason': 'stop', 'logprobs': None}, id='run-93ad9052-45b2-41d6-a958-cde4215c9c6c-0', usage_metadata={'input_tokens': 34, 'output_tokens': 304, 'total_tokens': 338, 'input_token_details': {'cache_read': 0}, 'output_token_details': {'reasoning': 0}})"
      ]
     },
     "execution_count": 21,
     "metadata": {},
     "output_type": "execute_result"
    }
   ],
   "source": [
    "from langchain_core.messages import HumanMessage, SystemMessage\n",
    "\n",
    "messages = [\n",
    "    SystemMessage(content=\"You are my personal assistent and your name is Taki manage friendly assistent\"),\n",
    "    HumanMessage(content=\"Could u suggest me a romantic anime\"),\n",
    "]\n",
    "\n",
    "llm.invoke(messages.content)"
   ]
  },
  {
   "cell_type": "markdown",
   "metadata": {},
   "source": [
    "## Output Parsers"
   ]
  },
  {
   "cell_type": "code",
   "execution_count": null,
   "metadata": {},
   "outputs": [],
   "source": []
  }
 ],
 "metadata": {
  "kernelspec": {
   "display_name": "generativeai",
   "language": "python",
   "name": "python3"
  },
  "language_info": {
   "codemirror_mode": {
    "name": "ipython",
    "version": 3
   },
   "file_extension": ".py",
   "mimetype": "text/x-python",
   "name": "python",
   "nbconvert_exporter": "python",
   "pygments_lexer": "ipython3",
   "version": "3.11.10"
  }
 },
 "nbformat": 4,
 "nbformat_minor": 2
}
